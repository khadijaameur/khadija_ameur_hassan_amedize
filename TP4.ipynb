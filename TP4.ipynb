{
 "cells": [
  {
   "cell_type": "markdown",
   "id": "da0db2bd",
   "metadata": {},
   "source": [
    "### TP 4 : Les forêts aléatoires"
   ]
  },
  {
   "cell_type": "markdown",
   "id": "fa1073b0",
   "metadata": {},
   "source": [
    "Méthodes d’agrégation\n",
    "Les méthodes ensemblistes (ou d’agrégation) pour les algorithmes d’apprentissage statistique \n",
    "(en anglais : ensemble learning) sont basées sur l’idée de combiner les prédictions de \n",
    "plusieurs prédicteurs (ou classifieurs) pour une meilleure généralisation et pour compenser les \n",
    "défauts éventuels de prédicteurs individuels.\n",
    "En général, on distingue deux familles de méthodes de ce type :\n",
    "   1. Méthodes par moyennage (bagging, forêts aléatoires) où le principe est de faire la \n",
    "moyenne de plusieurs prédictions en espérant un meilleur résultat suite à la réduction \n",
    "de variance de l’éstimateur moyenne.\n",
    "   2. Méthodes adaptatives (boosting) où les paramètres sont itérativement adaptés pour \n",
    "produire un meilleur mélange.\n",
    "Dans la suite nous explorerons chacune de ces classes d’algorithme en Scikit-learn et \n",
    "présenterons quelques comparaisons"
   ]
  },
  {
   "cell_type": "markdown",
   "id": "5b043c57",
   "metadata": {},
   "source": [
    "* Dans cet exemple nous allons utiliser la base de données digits, qui contient 10 classes \n",
    "  (images des chiffres en écriture manuscrite). Il y a 1797 éléments, chaque élément a 64 \n",
    "  attributs (8 pixels par 8)."
   ]
  },
  {
   "cell_type": "code",
   "execution_count": 1,
   "id": "29528afc",
   "metadata": {},
   "outputs": [],
   "source": [
    "import numpy as np\n",
    "import pandas as pd\n",
    "from sklearn.ensemble import BaggingClassifier\n",
    "from sklearn.neighbors import KNeighborsClassifier"
   ]
  },
  {
   "cell_type": "code",
   "execution_count": 2,
   "id": "545a002f",
   "metadata": {},
   "outputs": [
    {
     "data": {
      "image/png": "[encoded data removed]",
      "text/plain": [
       "<Figure size 432x288 with 10 Axes>"
      ]
     },
     "metadata": {
      "needs_background": "light"
     },
     "output_type": "display_data"
    }
   ],
   "source": [
    "from sklearn.datasets import load_digits\n",
    "digits = load_digits()\n",
    "# Affichage des 10 premières images\n",
    "import matplotlib.pyplot as plt\n",
    "fig = plt.figure()\n",
    "for i, digit in enumerate(digits.images[:10]):\n",
    "    #print(digit)\n",
    "    fig.add_subplot(1,10,i+1)\n",
    "    plt.imshow(digit)\n",
    "plt.show()"
   ]
  },
  {
   "cell_type": "code",
   "execution_count": 4,
   "id": "175c3fae",
   "metadata": {},
   "outputs": [
    {
     "name": "stdout",
     "output_type": "stream",
     "text": [
      "1.0\n"
     ]
    }
   ],
   "source": [
    "from sklearn import tree\n",
    "from sklearn.ensemble import BaggingClassifier\n",
    "X, y = digits.data, digits.target\n",
    "clf = tree.DecisionTreeClassifier()\n",
    "clf.fit(X, y)\n",
    "accuracy = clf.score(X,y)\n",
    "print(accuracy)"
   ]
  },
  {
   "cell_type": "markdown",
   "id": "df62477f",
   "metadata": {},
   "source": [
    "Pour ce TP, nous allons utiliser comme classifieur de base un arbre de \n",
    "décision DecisionTreeClassifier. Ce classifieur nous permet d’établir des performances de \n",
    "référence (c’est un ensemble à 1 modèle)"
   ]
  },
  {
   "cell_type": "code",
   "execution_count": 5,
   "id": "243b86aa",
   "metadata": {},
   "outputs": [
    {
     "name": "stdout",
     "output_type": "stream",
     "text": [
      "0.6891223733003708\n"
     ]
    }
   ],
   "source": [
    "from sklearn.model_selection import train_test_split\n",
    "# 90% des données pour le test, 10% pour l'apprentissage\n",
    "X_train, X_test, y_train, y_test = train_test_split(X, y, test_size=0.90)\n",
    "clf = tree.DecisionTreeClassifier()\n",
    "clf.fit(X_train, y_train)\n",
    "Z = clf.predict(X_test)\n",
    "accuracy = clf.score(X_test,y_test)\n",
    "print(accuracy)"
   ]
  },
  {
   "cell_type": "markdown",
   "id": "5f099d51",
   "metadata": {},
   "source": [
    "Nous avons obtenue une valeur moyenne d'accuracy a améliorer"
   ]
  },
  {
   "cell_type": "code",
   "execution_count": 6,
   "id": "2f9078d0",
   "metadata": {},
   "outputs": [
    {
     "name": "stdout",
     "output_type": "stream",
     "text": [
      "0.027615435156353306\n"
     ]
    }
   ],
   "source": [
    "accuracy_list=[]\n",
    "for i in range(101):\n",
    "    X_train, X_test, y_train, y_test = train_test_split(X, y, test_size=0.90)\n",
    "    clf = tree.DecisionTreeClassifier()\n",
    "    clf.fit(X_train, y_train)\n",
    "    Z = clf.predict(X_test)\n",
    "    accuracy = clf.score(X_test,y_test)\n",
    "    accuracy_list.append(accuracy)\n",
    "print(np.std(accuracy_list))    \n"
   ]
  },
  {
   "cell_type": "markdown",
   "id": "2d8b6d3b",
   "metadata": {},
   "source": [
    "la valeur de la variance est réduite , sa reflete que la liste des accuracy obtenue ont presquues les meme valeurs."
   ]
  },
  {
   "cell_type": "markdown",
   "id": "e3c34de9",
   "metadata": {},
   "source": [
    "### Comparaison : cas1_Methode de bagging\n",
    "Les méthodes de type bagging construisent plusieurs instances d’un estimateur, calculées sur \n",
    "des échantillons aléatoires tirés de la base d’apprentissage (et éventuellement une partie des \n",
    "attributs, également sélectionnés de façon aléatoire), et ensuite combine les prédictions \n",
    "individuelles en réalisant leur moyenne pour réduire la variance de l’estimateur. Leur avantage \n",
    "principal réside dans le fait qu’ils construisent une version améliorée de l’algorithme de base, \n",
    "sans demander de modification de cet algorithme\n",
    "###### - construisons maintenant un classifieur bagging sur nos données, toujours basé sur les DecisionTreeClassifier \n",
    "\n",
    "* Construire la variance de la valeur accuracy sur 100 tirages pour la séparation apprentissage/test"
   ]
  },
  {
   "cell_type": "code",
   "execution_count": 9,
   "id": "a29bbb2b",
   "metadata": {},
   "outputs": [
    {
     "name": "stdout",
     "output_type": "stream",
     "text": [
      "0.004208621416101351\n"
     ]
    },
    {
     "data": {
      "text/plain": [
       "0.904153765191105"
      ]
     },
     "execution_count": 9,
     "metadata": {},
     "output_type": "execute_result"
    }
   ],
   "source": [
    "list_baggin=[] \n",
    "for i in range(101):      \n",
    "    lf = BaggingClassifier(tree.DecisionTreeClassifier(),\n",
    "                               max_samples=0.5, max_features=0.5, n_estimators=200)\n",
    "    lf.fit(X_train, y_train)\n",
    "    Z = lf.predict(X_test)\n",
    "    accuracy=lf.score(X_test,y_test)\n",
    "    list_baggin.append(accuracy)\n",
    "print(np.std(list_baggin))  \n",
    "np.average(list_baggin)    "
   ]
  },
  {
   "cell_type": "markdown",
   "id": "18848a26",
   "metadata": {},
   "source": [
    "d'aprés l'utilisation du classiffieur bagging , nous avons obtenu un ecart type plus bas que la methode classique , d'ou on peut conclure que le a methode bagging est plus précise que la deuxieme.\n",
    "\n",
    "\n",
    "\n",
    "\n",
    "\n",
    "\n",
    "\n"
   ]
  },
  {
   "cell_type": "code",
   "execution_count": 10,
   "id": "06b3a989",
   "metadata": {},
   "outputs": [
    {
     "name": "stdout",
     "output_type": "stream",
     "text": [
      "0.05747933196953999\n"
     ]
    }
   ],
   "source": [
    "list_bag=[] \n",
    "for i in range(2,600,15):      \n",
    "    lf = BaggingClassifier(tree.DecisionTreeClassifier(),\n",
    "                               max_samples=0.5, max_features=0.5, n_estimators=i)\n",
    "    lf.fit(X_train, y_train)\n",
    "    Z = lf.predict(X_test)\n",
    "    accuracy=lf.score(X_test,y_test)\n",
    "    list_bag.append(accuracy)\n",
    "print(np.std(list_bag))  "
   ]
  },
  {
   "cell_type": "markdown",
   "id": "213208d6",
   "metadata": {},
   "source": [
    "##### Construire le graphique accuracy vs n_estimators"
   ]
  },
  {
   "cell_type": "code",
   "execution_count": 11,
   "id": "dd4c6d4d",
   "metadata": {},
   "outputs": [
    {
     "data": {
      "text/plain": [
       "Text(0, 0.5, 'Testing Accuracy')"
      ]
     },
     "execution_count": 11,
     "metadata": {},
     "output_type": "execute_result"
    },
    {
     "data": {
      "image/png": "[encoded data removed]",
      "text/plain": [
       "<Figure size 432x288 with 1 Axes>"
      ]
     },
     "metadata": {
      "needs_background": "light"
     },
     "output_type": "display_data"
    }
   ],
   "source": [
    "import matplotlib.pyplot as plt\n",
    "# plot the relationship between K and testing accuracy\n",
    "# plt.plot(x_axis, y_axis)\n",
    "plt.plot(range(len(list_bag)), list_bag)\n",
    "plt.xlabel('Value of n_estimators for Random Forest Classifier')\n",
    "plt.ylabel('Testing Accuracy')"
   ]
  },
  {
   "cell_type": "markdown",
   "id": "f25f6dce",
   "metadata": {},
   "source": [
    "on remarque qu'appartir la 10 emme valeur de n_estamor , la valeur d'accuracy se stabilise"
   ]
  },
  {
   "cell_type": "markdown",
   "id": "91c86a6c",
   "metadata": {},
   "source": [
    "#### varions  les parametres max_samples et max_features. Pour quelles valeurs on obtient le meilleur résultat ? "
   ]
  },
  {
   "cell_type": "markdown",
   "id": "422a80eb",
   "metadata": {},
   "source": [
    "* cas 1 : choix de max_samples trés grand"
   ]
  },
  {
   "cell_type": "code",
   "execution_count": 100,
   "id": "f708ec51",
   "metadata": {},
   "outputs": [
    {
     "name": "stdout",
     "output_type": "stream",
     "text": [
      "0.062304645102802224\n"
     ]
    }
   ],
   "source": [
    "list_bag=[] \n",
    "for i in range(2,200,5):      \n",
    "    lf = BaggingClassifier(tree.DecisionTreeClassifier(),\n",
    "                               max_samples=0.9, max_features=0.5, n_estimators=i)\n",
    "    lf.fit(X_train, y_train)\n",
    "    Z = lf.predict(X_test)\n",
    "    accuracy=lf.score(X_test,y_test)\n",
    "    list_bag.append(accuracy)\n",
    "print(np.std(list_bag))  "
   ]
  },
  {
   "cell_type": "markdown",
   "id": "a70c4bd9",
   "metadata": {},
   "source": [
    "Nous avons obtenue une valeur de variance des accuracy plus elevé qu'au paravant."
   ]
  },
  {
   "cell_type": "code",
   "execution_count": 101,
   "id": "1ed6f058",
   "metadata": {},
   "outputs": [
    {
     "data": {
      "text/plain": [
       "Text(0, 0.5, 'Testing Accuracy')"
      ]
     },
     "execution_count": 101,
     "metadata": {},
     "output_type": "execute_result"
    },
    {
     "data": {
      "image/png": "[encoded data removed]",
      "text/plain": [
       "<Figure size 432x288 with 1 Axes>"
      ]
     },
     "metadata": {
      "needs_background": "light"
     },
     "output_type": "display_data"
    }
   ],
   "source": [
    "import matplotlib.pyplot as plt\n",
    "# plot the relationship between K and testing accuracy\n",
    "# plt.plot(x_axis, y_axis)\n",
    "plt.plot(range(len(list_bag)), list_bag)\n",
    "plt.xlabel('Value of n_estimators for Random Forest Classifier')\n",
    "plt.ylabel('Testing Accuracy')"
   ]
  },
  {
   "cell_type": "markdown",
   "id": "815b19a7",
   "metadata": {},
   "source": [
    "Cependant on a besoin au minimaum de 10 arbres comme n_estimators pour obtenir une valeur maximal d'accuracy stable."
   ]
  },
  {
   "cell_type": "markdown",
   "id": "8ebff73d",
   "metadata": {},
   "source": [
    "* cas 2 : choix de max_samples trés faible"
   ]
  },
  {
   "cell_type": "code",
   "execution_count": 14,
   "id": "b1bc17ee",
   "metadata": {},
   "outputs": [
    {
     "name": "stdout",
     "output_type": "stream",
     "text": [
      "0.07914628412718196\n"
     ]
    }
   ],
   "source": [
    "list_bag=[] \n",
    "for i in range(2,200,5):      \n",
    "    lf = BaggingClassifier(tree.DecisionTreeClassifier(),\n",
    "                               max_samples=0.2, max_features=0.5, n_estimators=i)\n",
    "    lf.fit(X_train, y_train)\n",
    "    Z = lf.predict(X_test)\n",
    "    accuracy=lf.score(X_test,y_test)\n",
    "    list_bag.append(accuracy)\n",
    "print(np.std(list_bag))  "
   ]
  },
  {
   "cell_type": "code",
   "execution_count": 15,
   "id": "2bc9b6fc",
   "metadata": {},
   "outputs": [
    {
     "data": {
      "text/plain": [
       "Text(0, 0.5, 'Testing Accuracy')"
      ]
     },
     "execution_count": 15,
     "metadata": {},
     "output_type": "execute_result"
    },
    {
     "data": {
      "image/png": "[encoded data removed]",
      "text/plain": [
       "<Figure size 432x288 with 1 Axes>"
      ]
     },
     "metadata": {
      "needs_background": "light"
     },
     "output_type": "display_data"
    }
   ],
   "source": [
    "import matplotlib.pyplot as plt\n",
    "# plot the relationship between K and testing accuracy\n",
    "# plt.plot(x_axis, y_axis)\n",
    "plt.plot(range(len(list_bag)), list_bag)\n",
    "plt.xlabel('Value of n_estimators for Random Forest Classifier')\n",
    "plt.ylabel('Testing Accuracy')"
   ]
  },
  {
   "cell_type": "markdown",
   "id": "2ad5b8af",
   "metadata": {},
   "source": [
    "Nous avons obtenue cette fois ci une valeur plus elevé de l'ecartype , est il exige la disponibilité d'aumoin30 arbres pour avoir une valeur d'accuracy maximaum"
   ]
  },
  {
   "cell_type": "markdown",
   "id": "723d9a24",
   "metadata": {},
   "source": [
    "* cas 3 : choix de max_features trés faible"
   ]
  },
  {
   "cell_type": "code",
   "execution_count": 16,
   "id": "c9a51614",
   "metadata": {},
   "outputs": [
    {
     "name": "stdout",
     "output_type": "stream",
     "text": [
      "0.05981086493033997\n"
     ]
    }
   ],
   "source": [
    "List_bag=[] \n",
    "for i in range(2,800,5):      \n",
    "    lf = BaggingClassifier(tree.DecisionTreeClassifier(),\n",
    "                               max_samples=0.5, max_features=0.2, n_estimators=i)\n",
    "    lf.fit(X_train, y_train)\n",
    "    Z = lf.predict(X_test)\n",
    "    accuracy=lf.score(X_test,y_test)\n",
    "    list_bag.append(accuracy)\n",
    "print(np.std(list_bag))"
   ]
  },
  {
   "cell_type": "code",
   "execution_count": 17,
   "id": "a0349668",
   "metadata": {},
   "outputs": [
    {
     "data": {
      "text/plain": [
       "Text(0, 0.5, 'Testing Accuracy')"
      ]
     },
     "execution_count": 17,
     "metadata": {},
     "output_type": "execute_result"
    },
    {
     "data": {
      "image/png": "[encoded data removed]",
      "text/plain": [
       "<Figure size 432x288 with 1 Axes>"
      ]
     },
     "metadata": {
      "needs_background": "light"
     },
     "output_type": "display_data"
    }
   ],
   "source": [
    "import matplotlib.pyplot as plt\n",
    "# plot the relationship between K and testing accuracy\n",
    "# plt.plot(x_axis, y_axis)\n",
    "plt.plot(range(len(list_bag)), list_bag)\n",
    "plt.xlabel('Value of n_estimators for Random Forest Classifier')\n",
    "plt.ylabel('Testing Accuracy')"
   ]
  },
  {
   "cell_type": "markdown",
   "id": "24514d82",
   "metadata": {},
   "source": [
    "Nous remarquons qu'il ya des chutes de la valeur d'accuraccy pour la valeur 30 de n_estimators , en suite on remarque une stabilité stricte ."
   ]
  },
  {
   "cell_type": "markdown",
   "id": "ce923749",
   "metadata": {},
   "source": [
    "* cas 4 : choix de max_features trés faible"
   ]
  },
  {
   "cell_type": "code",
   "execution_count": 18,
   "id": "a0679062",
   "metadata": {},
   "outputs": [
    {
     "name": "stdout",
     "output_type": "stream",
     "text": [
      "0.05410752372242141\n"
     ]
    }
   ],
   "source": [
    "List_bag=[] \n",
    "for i in range(2,500,5):      \n",
    "    lf = BaggingClassifier(tree.DecisionTreeClassifier(),\n",
    "                               max_samples=0.5, max_features=0.9, n_estimators=i)\n",
    "    lf.fit(X_train, y_train)\n",
    "    Z = lf.predict(X_test)\n",
    "    accuracy=lf.score(X_test,y_test)\n",
    "    list_bag.append(accuracy)\n",
    "print(np.std(list_bag)) "
   ]
  },
  {
   "cell_type": "code",
   "execution_count": 19,
   "id": "69126596",
   "metadata": {},
   "outputs": [
    {
     "data": {
      "text/plain": [
       "Text(0, 0.5, 'Testing Accuracy')"
      ]
     },
     "execution_count": 19,
     "metadata": {},
     "output_type": "execute_result"
    },
    {
     "data": {
      "image/png": "[encoded data removed]",
      "text/plain": [
       "<Figure size 432x288 with 1 Axes>"
      ]
     },
     "metadata": {
      "needs_background": "light"
     },
     "output_type": "display_data"
    }
   ],
   "source": [
    "import matplotlib.pyplot as plt\n",
    "# plot the relationship between K and testing accuracy\n",
    "# plt.plot(x_axis, y_axis)\n",
    "plt.plot(range(len(list_bag)), list_bag)\n",
    "plt.xlabel('Value of n_estimators for Random Forest Classifier')\n",
    "plt.ylabel('Testing Accuracy')"
   ]
  },
  {
   "cell_type": "markdown",
   "id": "504cd75d",
   "metadata": {},
   "source": [
    "Nous remarquons qu'il ya des chutes de la valeur d'accuraccy pour la valeur 30 et 200 de n_estimators , en suite on remarque une stabilité stricte aprés chaque chute ."
   ]
  },
  {
   "cell_type": "markdown",
   "id": "3b47e59e",
   "metadata": {},
   "source": [
    "* cas 3 : choix des valeurs de  max_features et max_samples  trés faibles"
   ]
  },
  {
   "cell_type": "code",
   "execution_count": 20,
   "id": "4849d10e",
   "metadata": {},
   "outputs": [
    {
     "name": "stdout",
     "output_type": "stream",
     "text": [
      "0.0621338549487392\n"
     ]
    }
   ],
   "source": [
    "List_bag=[] \n",
    "for i in range(2,500,5):      \n",
    "    lf = BaggingClassifier(tree.DecisionTreeClassifier(),\n",
    "                               max_samples=0.2, max_features=0.2, n_estimators=i)\n",
    "    lf.fit(X_train, y_train)\n",
    "    Z = lf.predict(X_test)\n",
    "    accuracy=lf.score(X_test,y_test)\n",
    "    list_bag.append(accuracy)\n",
    "print(np.std(list_bag)) "
   ]
  },
  {
   "cell_type": "code",
   "execution_count": 21,
   "id": "68131b05",
   "metadata": {},
   "outputs": [
    {
     "data": {
      "text/plain": [
       "Text(0, 0.5, 'Testing Accuracy')"
      ]
     },
     "execution_count": 21,
     "metadata": {},
     "output_type": "execute_result"
    },
    {
     "data": {
      "image/png": "[encoded data removed]",
      "text/plain": [
       "<Figure size 432x288 with 1 Axes>"
      ]
     },
     "metadata": {
      "needs_background": "light"
     },
     "output_type": "display_data"
    }
   ],
   "source": [
    "import matplotlib.pyplot as plt\n",
    "# plot the relationship between K and testing accuracy\n",
    "# plt.plot(x_axis, y_axis)\n",
    "plt.plot(range(len(list_bag)), list_bag)\n",
    "plt.xlabel('Value of n_estimators for Random Forest Classifier')\n",
    "plt.ylabel('Testing Accuracy')"
   ]
  },
  {
   "cell_type": "markdown",
   "id": "66bf957b",
   "metadata": {},
   "source": [
    "on remarque qu'il y avait plus de chut q'avant accompagner d'une stabilité temporaire juste aprés chaque chute."
   ]
  },
  {
   "cell_type": "markdown",
   "id": "bf5dfb7c",
   "metadata": {},
   "source": [
    "### REMARQUE:\n",
    "Le cas du meilleur choix qu'on pourrait faire sont les valeur : max_samples=0.5, max_features=0.5"
   ]
  },
  {
   "cell_type": "code",
   "execution_count": 22,
   "id": "75f2eab7",
   "metadata": {},
   "outputs": [],
   "source": [
    "import sys\n",
    "\n",
    "if not sys.warnoptions:\n",
    "    import warnings\n",
    "    warnings.simplefilter(\"ignore\")"
   ]
  },
  {
   "cell_type": "markdown",
   "id": "8b83ef86",
   "metadata": {},
   "source": [
    "* En utilisant la methode GridSearchCV pour réaliser une recherche \n",
    "systématique."
   ]
  },
  {
   "cell_type": "code",
   "execution_count": 23,
   "id": "adde455a",
   "metadata": {},
   "outputs": [],
   "source": [
    "for i in range(2,600,15):      \n",
    "    lf = BaggingClassifier(tree.DecisionTreeClassifier(),\n",
    "                               max_samples=0.5, max_features=0.5, n_estimators=i)"
   ]
  },
  {
   "cell_type": "code",
   "execution_count": 27,
   "id": "18a50b53",
   "metadata": {},
   "outputs": [
    {
     "name": "stdout",
     "output_type": "stream",
     "text": [
      "0.8906056860321384\n"
     ]
    }
   ],
   "source": [
    "from sklearn.model_selection import GridSearchCV\n",
    "\n",
    "max_samples=[]\n",
    "for i in range(10,len(X_train),30):\n",
    "    max_samples.append(i)    \n",
    "    \n",
    "max_features=[]\n",
    "for i in range(64,len(X_train)*64,128):\n",
    "    max_features.append(i)\n",
    "    \n",
    "list_crid=[]    \n",
    "     \n",
    "param_grid = {\n",
    "    #'max_depth': [4,5,6,7,8,9,10,11,12,15,20,30,40,50,70,90,120,150],\n",
    "    'max_features': max_features,\n",
    "    'max_samples': max_samples,\n",
    "    #'n_estimators': [100, 200, 300]\n",
    "}\n",
    "\n",
    "#tree_para = {'criterion':['gini','entropy'],param_grid}\n",
    "clf8 = GridSearchCV(lf, param_grid)\n",
    "clf8.fit(X_train, y_train)\n",
    "list_crid.append(clf8.predict(X_test))\n",
    "accuracy=clf8.score(X_test,y_test)\n",
    "print(accuracy)\n"
   ]
  },
  {
   "cell_type": "code",
   "execution_count": 28,
   "id": "16caa08a",
   "metadata": {},
   "outputs": [
    {
     "name": "stdout",
     "output_type": "stream",
     "text": [
      "Le taux d’éléments mal classifiés sur l’ensemble de test :q 0.10939431396786159 \n"
     ]
    }
   ],
   "source": [
    "from sklearn.metrics import accuracy_score\n",
    "print(f\"Le taux d’éléments mal classifiés sur l’ensemble de test :q {1-accuracy_score(y_test, clf8.predict(X_test))} \")"
   ]
  },
  {
   "cell_type": "markdown",
   "id": "72517e30",
   "metadata": {},
   "source": [
    "*  nous avons eu des resultats trés positives qui depasse les 89 pourcent d'accuracy ."
   ]
  },
  {
   "cell_type": "markdown",
   "id": "4a94c8ff",
   "metadata": {},
   "source": [
    "## RANDOM FOREST"
   ]
  },
  {
   "cell_type": "markdown",
   "id": "18a299a5",
   "metadata": {},
   "source": [
    "L’algorithme des forêts aléatoires propose une optimisation des arbres de décision. Il utilise le \n",
    "même principe que le bagging, mais avec une étape supplémentaire de randomisation dans \n",
    "la sélection des attributs des nœuds dans le but de réduire la variance de l’estimateur obtenu. "
   ]
  },
  {
   "cell_type": "markdown",
   "id": "6cc10bed",
   "metadata": {},
   "source": [
    "* nous allons refaire la classification sur la base Digits en utilisant un classifieur RandomForestClassifier."
   ]
  },
  {
   "cell_type": "code",
   "execution_count": 41,
   "id": "e817facb",
   "metadata": {},
   "outputs": [],
   "source": [
    "digits = load_digits()\n",
    "X, y = digits.data, digits.target\n",
    "from sklearn.model_selection import train_test_split\n",
    "X_train, X_test, y_train, y_test = train_test_split(X, y,test_size=0.90)"
   ]
  },
  {
   "cell_type": "code",
   "execution_count": 30,
   "id": "61e54753",
   "metadata": {},
   "outputs": [
    {
     "name": "stdout",
     "output_type": "stream",
     "text": [
      "0.8831891223733004\n"
     ]
    }
   ],
   "source": [
    "from sklearn.ensemble import RandomForestClassifier\n",
    "clf = RandomForestClassifier(n_estimators=200)\n",
    "clf.fit(X_train, y_train)\n",
    "y_pred = clf.predict(X_test)\n",
    "accuracy = clf.score(X_test,y_test)\n",
    "print(accuracy)"
   ]
  },
  {
   "cell_type": "markdown",
   "id": "7abe262c",
   "metadata": {},
   "source": [
    "- nous avons obtenu des resutats beaucoup mieux que ceux du methodes bagginggg . il s'agit d'une valeur qui dépasse 88% d'accuracy."
   ]
  },
  {
   "cell_type": "markdown",
   "id": "bc03f5d5",
   "metadata": {},
   "source": [
    "##### Construction de la variance de la valeur accuracy sur 100 tirages pour la séparation apprentissage/test."
   ]
  },
  {
   "cell_type": "code",
   "execution_count": 32,
   "id": "b5761532",
   "metadata": {},
   "outputs": [
    {
     "name": "stdout",
     "output_type": "stream",
     "text": [
      "0.0053736729358647315\n"
     ]
    },
    {
     "data": {
      "text/plain": [
       "0.8892349679961817"
      ]
     },
     "execution_count": 32,
     "metadata": {},
     "output_type": "execute_result"
    }
   ],
   "source": [
    "list_RF=[] \n",
    "for i in range(101):      \n",
    "    lf = RandomForestClassifier(n_estimators=200)\n",
    "    lf.fit(X_train, y_train)\n",
    "    y_pred = lf.predict(X_test)\n",
    "    accuracy=lf.score(X_test,y_test)\n",
    "    list_RF.append(accuracy)\n",
    "print(np.std(list_RF))  \n",
    "np.average(list_RF) "
   ]
  },
  {
   "cell_type": "markdown",
   "id": "885a953a",
   "metadata": {},
   "source": [
    "- Concernant la méthode bagging nous avons obtenue une valeur de 90% comme moyenne d'accuracy des 100 tirages , or qu'on a juste 88% pour la methodes RF ."
   ]
  },
  {
   "cell_type": "markdown",
   "id": "819625bb",
   "metadata": {},
   "source": [
    " #### graphique accuracy vs n_estimators"
   ]
  },
  {
   "cell_type": "code",
   "execution_count": 38,
   "id": "5d8126cf",
   "metadata": {},
   "outputs": [
    {
     "name": "stdout",
     "output_type": "stream",
     "text": [
      "0.043148974882135045\n"
     ]
    },
    {
     "data": {
      "text/plain": [
       "0.8813967861557478"
      ]
     },
     "execution_count": 38,
     "metadata": {},
     "output_type": "execute_result"
    }
   ],
   "source": [
    "list_RdF=[] \n",
    "for i in range(2,600,15):      \n",
    "    lf = RandomForestClassifier(n_estimators=i)\n",
    "    lf.fit(X_train, y_train)\n",
    "    Z = lf.predict(X_test)\n",
    "    accuracy=lf.score(X_test,y_test)\n",
    "    list_RdF.append(accuracy)\n",
    "print(np.std(list_RdF)) \n",
    "np.average(list_RdF) "
   ]
  },
  {
   "cell_type": "code",
   "execution_count": 39,
   "id": "9e95a9bb",
   "metadata": {},
   "outputs": [
    {
     "data": {
      "text/plain": [
       "Text(0, 0.5, 'Testing Accuracy')"
      ]
     },
     "execution_count": 39,
     "metadata": {},
     "output_type": "execute_result"
    },
    {
     "data": {
      "image/png": "[encoded data removed]",
      "text/plain": [
       "<Figure size 432x288 with 1 Axes>"
      ]
     },
     "metadata": {
      "needs_background": "light"
     },
     "output_type": "display_data"
    }
   ],
   "source": [
    "import matplotlib.pyplot as plt\n",
    "# plot the relationship between K and testing accuracy\n",
    "# plt.plot(x_axis, y_axis)\n",
    "plt.plot(range(len(list_RdF)), list_RdF)\n",
    "plt.xlabel('Value of n_estimators for Random Forest Classifier')\n",
    "plt.ylabel('Testing Accuracy')"
   ]
  },
  {
   "cell_type": "markdown",
   "id": "372ef173",
   "metadata": {},
   "source": [
    "la valeur d'accuracy commence à se stabiliser à  la valeur 0.90 apartir du 15 n_estimators 20.or pour la methode bagging on a remarqué la stabilité d'accuraccy à la méme valeur (0.90) mais il exige la disponibilité d'aumoin 10 estimators."
   ]
  },
  {
   "cell_type": "markdown",
   "id": "74ad25ef",
   "metadata": {},
   "source": [
    " #### la classification avec les ExtraTreesClassifier : "
   ]
  },
  {
   "cell_type": "markdown",
   "id": "3137fad4",
   "metadata": {},
   "source": [
    "- Nous faisons  la classification avec ce type de classifieur. et on va le comparer avec RandomForestClassifier."
   ]
  },
  {
   "cell_type": "code",
   "execution_count": 54,
   "id": "304a0621",
   "metadata": {},
   "outputs": [
    {
     "name": "stdout",
     "output_type": "stream",
     "text": [
      "0.9493201483312732\n"
     ]
    }
   ],
   "source": [
    "from sklearn.ensemble import ExtraTreesClassifier\n",
    "cllf = ExtraTreesClassifier(n_estimators=200, random_state=0)\n",
    "cllf.fit(X_train, y_train)\n",
    "y_pred = cllf.predict(X_test)\n",
    "accuracy = cllf.score(X_test,y_test)\n",
    "print(accuracy)"
   ]
  },
  {
   "cell_type": "code",
   "execution_count": 60,
   "id": "99ed0cec",
   "metadata": {},
   "outputs": [
    {
     "name": "stdout",
     "output_type": "stream",
     "text": [
      "0.055792391044273075\n"
     ]
    },
    {
     "data": {
      "text/plain": [
       "0.937886279357231"
      ]
     },
     "execution_count": 60,
     "metadata": {},
     "output_type": "execute_result"
    }
   ],
   "source": [
    "list_Extra=[] \n",
    "for i in range(2,600,20):      \n",
    "    clllf = ExtraTreesClassifier(n_estimators=i, random_state=0)\n",
    "    clllf.fit(X_train, y_train)\n",
    "    Z = clllf.predict(X_test)\n",
    "    accuracy=clllf.score(X_test,y_test)\n",
    "    list_Extra.append(accuracy)\n",
    "print(np.std(list_Extra)) \n",
    "np.average(list_Extra) "
   ]
  },
  {
   "cell_type": "code",
   "execution_count": 61,
   "id": "a380de6a",
   "metadata": {},
   "outputs": [
    {
     "data": {
      "text/plain": [
       "Text(0, 0.5, 'Testing Accuracy')"
      ]
     },
     "execution_count": 61,
     "metadata": {},
     "output_type": "execute_result"
    },
    {
     "data": {
      "image/png": "[encoded data removed]",
      "text/plain": [
       "<Figure size 432x288 with 1 Axes>"
      ]
     },
     "metadata": {
      "needs_background": "light"
     },
     "output_type": "display_data"
    }
   ],
   "source": [
    "import matplotlib.pyplot as plt\n",
    "# plot the relationship between K and testing accuracy\n",
    "# plt.plot(x_axis, y_axis)\n",
    "plt.plot(range(len(list_Extra)), list_Extra)\n",
    "plt.xlabel('Value of n_estimators for Random Forest Classifier')\n",
    "plt.ylabel('Testing Accuracy')"
   ]
  },
  {
   "cell_type": "markdown",
   "id": "90e7d238",
   "metadata": {},
   "source": [
    "Nous avons obtenu des résultats d'accuracy beacoup mieux que le random forest , nous avons obtenue plus que 96% accompagné d'une stabilité appartir de 5 estimateurs ."
   ]
  },
  {
   "cell_type": "markdown",
   "id": "7ba9bce1",
   "metadata": {},
   "source": [
    "### Boosting"
   ]
  },
  {
   "cell_type": "markdown",
   "id": "cb7ebb4f",
   "metadata": {},
   "source": [
    "Le principe du boosting est d’évaluer une séquence de classifieurs faibles (weak learners) sur \n",
    "plusieurs versions légèrement modifiées des données d’apprentissage. Les décisions \n",
    "obtenues sont alors combinées par une somme pondérée pour obtenir le modèle final."
   ]
  },
  {
   "cell_type": "markdown",
   "id": "18af06b8",
   "metadata": {},
   "source": [
    "- nous allons refaire la classification sur la base Digits en utilisant un \n",
    "classifieur RandomForestClassifier "
   ]
  },
  {
   "cell_type": "code",
   "execution_count": 62,
   "id": "d0de1edb",
   "metadata": {},
   "outputs": [
    {
     "name": "stdout",
     "output_type": "stream",
     "text": [
      "0.8967861557478368\n"
     ]
    }
   ],
   "source": [
    "from sklearn.ensemble import AdaBoostClassifier\n",
    "digits = load_digits()\n",
    "X, y = digits.data, digits.target\n",
    "X_train, X_test, y_train, y_test = train_test_split(X, y, test_size=0.90)\n",
    "# AdaBoost basé sur 200 arbres de décision\n",
    "clf =AdaBoostClassifier(base_estimator=tree.DecisionTreeClassifier(max_depth=5),\n",
    "n_estimators=200, learning_rate=2)\n",
    "clf.fit(X_train, y_train)\n",
    "accuracy = clf.score(X_test, y_test)\n",
    "print(accuracy)"
   ]
  },
  {
   "cell_type": "markdown",
   "id": "931c0491",
   "metadata": {},
   "source": [
    "Nous avons obtenu une valeur qui depasse 89% d'accuracy pour ce modéle."
   ]
  },
  {
   "cell_type": "markdown",
   "id": "df58028f",
   "metadata": {},
   "source": [
    "#### cas1 : variation du parametre max_depth :"
   ]
  },
  {
   "cell_type": "code",
   "execution_count": 86,
   "id": "1bc96cb9",
   "metadata": {},
   "outputs": [],
   "source": [
    "accurac=[]\n",
    "ind=[]\n",
    "from sklearn.ensemble import AdaBoostClassifier\n",
    "digits = load_digits()\n",
    "X, y = digits.data, digits.target\n",
    "X_train, X_test, y_train, y_test = train_test_split(X, y, test_size=0.90)\n",
    "# AdaBoost basé sur 200 arbres de décision\n",
    "for i in range(1,101,10):\n",
    "    clf =AdaBoostClassifier(base_estimator=tree.DecisionTreeClassifier(max_depth=i),\n",
    "    n_estimators=200, learning_rate=2)\n",
    "    clf.fit(X_train, y_train)\n",
    "    ind.append(i)\n",
    "    accurac.append(clf.score(X_test, y_test))\n"
   ]
  },
  {
   "cell_type": "code",
   "execution_count": 87,
   "id": "4184e998",
   "metadata": {},
   "outputs": [
    {
     "data": {
      "text/plain": [
       "Text(0, 0.5, ' Accuracy')"
      ]
     },
     "execution_count": 87,
     "metadata": {},
     "output_type": "execute_result"
    },
    {
     "data": {
      "image/png": "[encoded data removed]",
      "text/plain": [
       "<Figure size 432x288 with 1 Axes>"
      ]
     },
     "metadata": {
      "needs_background": "light"
     },
     "output_type": "display_data"
    }
   ],
   "source": [
    "import matplotlib.pyplot as plt\n",
    "plt.plot(ind,accurac)\n",
    "plt.xlabel('Value of max_depth for Random Forest Classifier')\n",
    "plt.ylabel(' Accuracy')"
   ]
  },
  {
   "cell_type": "markdown",
   "id": "e3dda184",
   "metadata": {},
   "source": [
    "On remarque que :\n",
    "- entre l'intervalle [0,10] l'accuracy commence à dimunuer de sa valeur maximale (plus de 74%) vers une valeur minimale.\n",
    "- A partir de la valeur de max_depth>20 , la valeur d'accuracy  a se stabiliser à la valeur 65%\n",
    "\n",
    "Donc ce qu'on peut conclure que les meilleur valeurs qu'on pourait prendre seront entre [1,5] ,"
   ]
  },
  {
   "cell_type": "markdown",
   "id": "f12d9395",
   "metadata": {},
   "source": [
    "#### cas2 : variation du parametre rate_learning :"
   ]
  },
  {
   "cell_type": "code",
   "execution_count": 102,
   "id": "7ce417dd",
   "metadata": {},
   "outputs": [],
   "source": [
    "accur=[]\n",
    "ind=[]\n",
    "from sklearn.ensemble import AdaBoostClassifier\n",
    "digits = load_digits()\n",
    "X, y = digits.data, digits.target\n",
    "X_train, X_test, y_train, y_test = train_test_split(X, y, test_size=0.90)\n",
    "# AdaBoost basé sur 200 arbres de décision\n",
    "for i in range(1,80,10):\n",
    "    clf =AdaBoostClassifier(base_estimator=tree.DecisionTreeClassifier(max_depth=5),\n",
    "    n_estimators=200, learning_rate=i)\n",
    "    clf.fit(X_train, y_train)\n",
    "    ind.append(i)\n",
    "    accur.append(clf.score(X_test, y_test))\n"
   ]
  },
  {
   "cell_type": "code",
   "execution_count": 103,
   "id": "2ac3ea06",
   "metadata": {},
   "outputs": [
    {
     "data": {
      "text/plain": [
       "Text(0, 0.5, ' Accuracy')"
      ]
     },
     "execution_count": 103,
     "metadata": {},
     "output_type": "execute_result"
    },
    {
     "data": {
      "image/png": "[encoded data removed]",
      "text/plain": [
       "<Figure size 432x288 with 1 Axes>"
      ]
     },
     "metadata": {
      "needs_background": "light"
     },
     "output_type": "display_data"
    }
   ],
   "source": [
    "import matplotlib.pyplot as plt\n",
    "plt.plot(ind,accur)\n",
    "plt.xlabel('Value of max_depth for Random Forest Classifier')\n",
    "plt.ylabel(' Accuracy')"
   ]
  },
  {
   "cell_type": "markdown",
   "id": "6736efbf",
   "metadata": {},
   "source": [
    "On remarque que :\n",
    "* entre l'intervalle [0,10] l'accuracy commence à dimunuer de sa valeur maximale (plus de 74%) vers une valeur de 40%.\n",
    "* A partir de la valeur de max_depth>20 , la valeur commence à s'ogmmenter .\n",
    "\n",
    "Donc ce qu'on peut conclure que les meilleur valeurs qu'on pourait prendre seront entre [1,5] , ou une valeur supérrieur à 60."
   ]
  },
  {
   "cell_type": "markdown",
   "id": "f8d20d11",
   "metadata": {},
   "source": [
    "#### cas3 : variation du nombre d'estimateurs:"
   ]
  },
  {
   "cell_type": "code",
   "execution_count": 97,
   "id": "1344be84",
   "metadata": {},
   "outputs": [],
   "source": [
    "acc=[]\n",
    "ind=[]\n",
    "from sklearn.ensemble import AdaBoostClassifier\n",
    "digits = load_digits()\n",
    "X, y = digits.data, digits.target\n",
    "X_train, X_test, y_train, y_test = train_test_split(X, y, test_size=0.90)\n",
    "# AdaBoost basé sur 200 arbres de décision\n",
    "for i in range(1,201,10):\n",
    "    clf =AdaBoostClassifier(base_estimator=tree.DecisionTreeClassifier(max_depth=5),\n",
    "    n_estimators=i, learning_rate=2)\n",
    "    clf.fit(X_train, y_train)\n",
    "    ind.append(i)\n",
    "    acc.append(clf.score(X_test, y_test))\n"
   ]
  },
  {
   "cell_type": "code",
   "execution_count": 98,
   "id": "7e2839c6",
   "metadata": {},
   "outputs": [
    {
     "data": {
      "text/plain": [
       "Text(0, 0.5, ' Accuracy')"
      ]
     },
     "execution_count": 98,
     "metadata": {},
     "output_type": "execute_result"
    },
    {
     "data": {
      "image/png": "[encoded data removed]",
      "text/plain": [
       "<Figure size 432x288 with 1 Axes>"
      ]
     },
     "metadata": {
      "needs_background": "light"
     },
     "output_type": "display_data"
    }
   ],
   "source": [
    "import matplotlib.pyplot as plt\n",
    "plt.plot(ind,acc)\n",
    "plt.xlabel('Value of max_depth for Random Forest Classifier')\n",
    "plt.ylabel(' Accuracy')"
   ]
  },
  {
   "cell_type": "markdown",
   "id": "0787f661",
   "metadata": {},
   "source": [
    "Pour ce models applqué sur le jeu de données degits , on peut remarqué qu'on pourrait avoir la stabilité  d'accuracy à une valeur aximale sera avec un choix de minimaum 100 estimators ."
   ]
  },
  {
   "cell_type": "code",
   "execution_count": null,
   "id": "95f86f12",
   "metadata": {},
   "outputs": [],
   "source": []
  }
 ],
 "metadata": {
  "kernelspec": {
   "display_name": "Python 3",
   "language": "python",
   "name": "python3"
  },
  "language_info": {
   "codemirror_mode": {
    "name": "ipython",
    "version": 3
   },
   "file_extension": ".py",
   "mimetype": "text/x-python",
   "name": "python",
   "nbconvert_exporter": "python",
   "pygments_lexer": "ipython3",
   "version": "3.8.5"
  }
 },
 "nbformat": 4,
 "nbformat_minor": 5
}
